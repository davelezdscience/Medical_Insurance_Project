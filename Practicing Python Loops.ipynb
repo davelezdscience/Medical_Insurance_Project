{
 "cells": [
  {
   "cell_type": "code",
   "execution_count": 19,
   "id": "fe1a0781",
   "metadata": {},
   "outputs": [],
   "source": [
    "names = [\"Judith\", \"Abel\", \"Tyson\", \"Martha\", \"Beverley\", \"David\", \"Anabel\"]\n",
    "estimated_insurance_costs = [1000.0, 2000.0, 3000.0, 4000.0, 5000.0, 6000.0, 7000.0]\n",
    "actual_insurance_costs = [1100.0, 2200.0, 3300.0, 4400.0, 5500.0, 6600.0, 7700.0]"
   ]
  },
  {
   "cell_type": "markdown",
   "id": "6014c725",
   "metadata": {},
   "source": [
    "### Calculating the average insurance cost each person paid. \n"
   ]
  },
  {
   "cell_type": "code",
   "execution_count": 23,
   "id": "0ab55e47",
   "metadata": {},
   "outputs": [
    {
     "name": "stdout",
     "output_type": "stream",
     "text": [
      "Average Insurance Cost: 4400.0 dollars\n"
     ]
    }
   ],
   "source": [
    "total_cost = 0\n",
    "i = 0 #Initial Index\n",
    "while i < len(actual_insurance_costs):\n",
    "    total_cost += actual_insurance_costs[i]\n",
    "    i += 1 #Incrementing Index\n",
    "    average_cost = total_cost / len(actual_insurance_costs)\n",
    "print(\"Average Insurance Cost: \" + str(average_cost) + \" dollars\")"
   ]
  },
  {
   "cell_type": "markdown",
   "id": "8c34c45c",
   "metadata": {},
   "source": [
    "### Using Range in Loops"
   ]
  },
  {
   "cell_type": "code",
   "execution_count": 24,
   "id": "37fc3ca0",
   "metadata": {},
   "outputs": [
    {
     "name": "stdout",
     "output_type": "stream",
     "text": [
      "The insurance cost for Judith is: 1100.0 dollars\n",
      "The difference between the actual and estimated cost for Judith is: 100.0 dollars\n",
      "The insurance cost for Abel is: 2200.0 dollars\n",
      "The difference between the actual and estimated cost for Abel is: 200.0 dollars\n",
      "The insurance cost for Tyson is: 3300.0 dollars\n",
      "The difference between the actual and estimated cost for Tyson is: 300.0 dollars\n",
      "The insurance cost for Martha is: 4400.0 dollars\n",
      "The difference between the actual and estimated cost for Martha is: 400.0 dollars\n",
      "The insurance cost for Beverley is: 5500.0 dollars\n",
      "The difference between the actual and estimated cost for Beverley is: 500.0 dollars\n",
      "The insurance cost for David is: 6600.0 dollars\n",
      "The difference between the actual and estimated cost for David is: 600.0 dollars\n",
      "The insurance cost for Anabel is: 7700.0 dollars\n",
      "The difference between the actual and estimated cost for Anabel is: 700.0 dollars\n"
     ]
    }
   ],
   "source": [
    "for i in range(len(names)):\n",
    "    name = names[i]\n",
    "    insurance_cost = actual_insurance_costs[i]\n",
    "    diference = actual_insurance_costs[i] - estimated_insurance_costs[i]\n",
    "    print(\"The insurance cost for \" + name + \" is: \" + str(insurance_cost) + \" dollars\")\n",
    "    print(\"The difference between the actual and estimated cost for \" + name + \" is: \" + str(diference) + \" dollars\")"
   ]
  },
  {
   "cell_type": "markdown",
   "id": "3bb889af",
   "metadata": {},
   "source": [
    "### Conditions inside a Loop\n"
   ]
  },
  {
   "cell_type": "code",
   "execution_count": 7,
   "id": "6e2c015b",
   "metadata": {},
   "outputs": [
    {
     "name": "stdout",
     "output_type": "stream",
     "text": [
      "The insurance cost for Judith is: 1100.0 dollars\n",
      "The insurance cost for Judith is below average.\n",
      "The insurance cost for Abel is: 2200.0 dollars\n",
      "The insurance cost for Abel is below average.\n",
      "The insurance cost for Tyson is: 3300.0 dollars\n",
      "The insurance cost for Tyson is below average.\n",
      "The insurance cost for Martha is: 4400.0 dollars\n",
      "The insurance cost for Martha is equal to the average.\n",
      "The insurance cost for Beverley is: 5500.0 dollars\n",
      "The insurance cost for Beverley is above average.\n",
      "The insurance cost for David is: 6600.0 dollars\n",
      "The insurance cost for David is above average.\n",
      "The insurance cost for Anabel is: 7700.0 dollars\n",
      "The insurance cost for Anabel is above average.\n"
     ]
    }
   ],
   "source": [
    "for i in range(len(names)):\n",
    "    name = names[i]\n",
    "    insurance_cost = actual_insurance_costs[i]\n",
    "    print(\"The insurance cost for \" + name + \" is: \" + str(insurance_cost) + \" dollars\")\n",
    "    if insurance_cost > average_cost:\n",
    "        print(\"The insurance cost for \" + name + \" is above average.\")\n",
    "    elif insurance_cost < average_cost:\n",
    "        print(\"The insurance cost for \" + name + \" is below average.\")\n",
    "    else:\n",
    "        print(\"The insurance cost for \" + name + \" is equal to the average.\")"
   ]
  },
  {
   "cell_type": "markdown",
   "id": "06251c1e",
   "metadata": {},
   "source": [
    "### Creating a List Comprehension\n"
   ]
  },
  {
   "cell_type": "code",
   "execution_count": 10,
   "id": "296f746a",
   "metadata": {},
   "outputs": [
    {
     "name": "stdout",
     "output_type": "stream",
     "text": [
      "Updated Estimated Insurance Costs: [1100.0, 2200.0, 3300.0000000000005, 4400.0, 5500.0, 6600.000000000001, 7700.000000000001] dollars\n"
     ]
    }
   ],
   "source": [
    "uptaded_estimated_costs = [cost * 1.1 for cost in estimated_insurance_costs]\n",
    "print(\"Updated Estimated Insurance Costs: \" + str(uptaded_estimated_costs) + \" dollars\")"
   ]
  },
  {
   "cell_type": "code",
   "execution_count": null,
   "id": "6cd55f04",
   "metadata": {},
   "outputs": [],
   "source": []
  },
  {
   "cell_type": "code",
   "execution_count": null,
   "id": "47ac7fe4",
   "metadata": {},
   "outputs": [],
   "source": []
  },
  {
   "cell_type": "code",
   "execution_count": null,
   "id": "8a41b8f8",
   "metadata": {},
   "outputs": [],
   "source": []
  },
  {
   "cell_type": "code",
   "execution_count": null,
   "id": "1308b31f",
   "metadata": {},
   "outputs": [],
   "source": []
  },
  {
   "cell_type": "code",
   "execution_count": null,
   "id": "814525bf",
   "metadata": {},
   "outputs": [],
   "source": []
  },
  {
   "cell_type": "code",
   "execution_count": null,
   "id": "3f31ba6d",
   "metadata": {},
   "outputs": [],
   "source": []
  },
  {
   "cell_type": "code",
   "execution_count": null,
   "id": "7a5e00be",
   "metadata": {},
   "outputs": [],
   "source": []
  },
  {
   "cell_type": "code",
   "execution_count": null,
   "id": "5d7be343",
   "metadata": {},
   "outputs": [],
   "source": []
  },
  {
   "cell_type": "code",
   "execution_count": null,
   "id": "756dd1de",
   "metadata": {},
   "outputs": [],
   "source": []
  },
  {
   "cell_type": "code",
   "execution_count": null,
   "id": "31e90a9c",
   "metadata": {},
   "outputs": [],
   "source": []
  },
  {
   "cell_type": "code",
   "execution_count": null,
   "id": "6c22561e",
   "metadata": {},
   "outputs": [],
   "source": []
  },
  {
   "cell_type": "code",
   "execution_count": null,
   "id": "540f6f7c",
   "metadata": {},
   "outputs": [],
   "source": []
  },
  {
   "cell_type": "code",
   "execution_count": null,
   "id": "6aefd8e7",
   "metadata": {},
   "outputs": [],
   "source": []
  },
  {
   "cell_type": "code",
   "execution_count": null,
   "id": "decaa755",
   "metadata": {},
   "outputs": [],
   "source": []
  },
  {
   "cell_type": "code",
   "execution_count": null,
   "id": "c4dbf24d",
   "metadata": {},
   "outputs": [],
   "source": []
  },
  {
   "cell_type": "code",
   "execution_count": null,
   "id": "0684ee9a",
   "metadata": {},
   "outputs": [],
   "source": []
  }
 ],
 "metadata": {
  "kernelspec": {
   "display_name": "base",
   "language": "python",
   "name": "python3"
  },
  "language_info": {
   "codemirror_mode": {
    "name": "ipython",
    "version": 3
   },
   "file_extension": ".py",
   "mimetype": "text/x-python",
   "name": "python",
   "nbconvert_exporter": "python",
   "pygments_lexer": "ipython3",
   "version": "3.13.5"
  }
 },
 "nbformat": 4,
 "nbformat_minor": 5
}
