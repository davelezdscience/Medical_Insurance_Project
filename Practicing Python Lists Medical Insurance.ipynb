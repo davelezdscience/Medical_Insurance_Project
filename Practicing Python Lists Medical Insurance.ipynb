{
 "cells": [
  {
   "cell_type": "code",
   "execution_count": 4,
   "id": "f46b29c0",
   "metadata": {},
   "outputs": [],
   "source": [
    "# Function to estimate insurance cost:\n",
    "def estimate_insurance_cost(name, age, sex, bmi, num_of_children, smoker):\n",
    "    estimated_cost = 250*age - 128*sex + 370*bmi + 425*num_of_children + 24000*smoker - 12500\n",
    "    print(name + \"'s estimated insurance cost is: $\" + str(estimated_cost) + \" dollars.\")\n",
    "    return estimated_cost"
   ]
  },
  {
   "cell_type": "code",
   "execution_count": 19,
   "id": "5a2850e7",
   "metadata": {},
   "outputs": [
    {
     "name": "stdout",
     "output_type": "stream",
     "text": [
      "Maria's estimated insurance cost is: $4222.0 dollars.\n",
      "Rohan's estimated insurance cost is: $5442.0 dollars.\n",
      "Valentina's estimated insurance cost is: $36368.0 dollars.\n",
      "Akira's estimated insurance cost is: $2149.0 dollars.\n"
     ]
    }
   ],
   "source": [
    "# Estimate Marias's Insurance Cost:\n",
    "maria_insurance_cost = estimate_insurance_cost(name=\"Maria\", age = 31, sex = 0, bmi = 23.1, num_of_children = 1, smoker = 0)\n",
    "# Estimate Rohan's insurance cost\n",
    "rohan_insurance_cost = estimate_insurance_cost(name=\"Rohan\", age = 25, sex = 1, bmi = 28.5, num_of_children = 3, smoker = 0)\n",
    "# Estimate Valentina's insurance cost\n",
    "valentina_insurance_cost = estimate_insurance_cost(name=\"Valentina\", age = 53, sex = 0, bmi = 31.4, num_of_children = 0, smoker = 1)\n",
    "# Estimate Akira's insurance cost\n",
    "akira_insurance_cost = estimate_insurance_cost(name=\"Akira\", age = 19, sex = 1, bmi = 27.1, num_of_children = 0, smoker = 0)"
   ]
  },
  {
   "cell_type": "code",
   "execution_count": 24,
   "id": "d87b50b0",
   "metadata": {},
   "outputs": [],
   "source": [
    "# Comparison of the estmiated insurance costs:\n",
    "names = [\"Maria\", \"Rohan\", \"Valentina\", \"Akira\"]\n",
    "# List calles insurance_costs:\n",
    "insurance_costs = [4150.0, 5320.0, 35210.0, 2930.0]\n"
   ]
  },
  {
   "cell_type": "code",
   "execution_count": 25,
   "id": "7eb06235",
   "metadata": {},
   "outputs": [
    {
     "name": "stdout",
     "output_type": "stream",
     "text": [
      "Here is the actual insurance cost data:  [('Maria', 4150.0), ('Rohan', 5320.0), ('Valentina', 35210.0), ('Akira', 2930.0)]\n"
     ]
    }
   ],
   "source": [
    "# Combining two lists:\n",
    "insurance_data = list(zip(names, insurance_costs))\n",
    "print(\"Here is the actual insurance cost data: \", insurance_data)"
   ]
  },
  {
   "cell_type": "code",
   "execution_count": 26,
   "id": "50fa9d99",
   "metadata": {},
   "outputs": [
    {
     "name": "stdout",
     "output_type": "stream",
     "text": [
      "Here is the estimated insurance cost data:  [['Maria', 4222.0], ['Rohan', 5442.0], ['Valentina', 36368.0], ['Akira', 2149.0]]\n"
     ]
    }
   ],
   "source": [
    "# Empty list to store the insurance costs:\n",
    "estimated_insurance_data = []\n",
    "# Adding the information of our insurance data to the empty list:\n",
    "estimated_insurance_data.append([\"Maria\", maria_insurance_cost])\n",
    "estimated_insurance_data.append([\"Rohan\", rohan_insurance_cost])\n",
    "estimated_insurance_data.append([\"Valentina\", valentina_insurance_cost])\n",
    "# Adding Akira's insurance cost to the list:\n",
    "estimated_insurance_data.append([\"Akira\", akira_insurance_cost])\n",
    "print(\"Here is the estimated insurance cost data: \", estimated_insurance_data)"
   ]
  },
  {
   "cell_type": "code",
   "execution_count": 28,
   "id": "31598a70",
   "metadata": {},
   "outputs": [
    {
     "name": "stdout",
     "output_type": "stream",
     "text": [
      "Here is the difference between the actual and estimated insurance costs:  [['Maria', 72.0], ['Rohan', 122.0], ['Valentina', 1158.0], ['Akira', 781.0]]\n"
     ]
    }
   ],
   "source": [
    "# Difference between the actual and estimated insurance costs:\n",
    "insurance_cost_difference = []\n",
    "marias_difference = abs(estimated_insurance_data[0][1] - insurance_data[0][1])\n",
    "rohan_difference = abs(estimated_insurance_data[1][1] - insurance_data[1][1])\n",
    "valentina_difference = abs(estimated_insurance_data[2][1] - insurance_data[2][1])\n",
    "insurance_cost_difference.append([\"Maria\", marias_difference])\n",
    "insurance_cost_difference.append([\"Rohan\", rohan_difference])\n",
    "insurance_cost_difference.append([\"Valentina\", valentina_difference])\n",
    "# Adding Akira's difference to the list:\n",
    "akira_difference = abs(estimated_insurance_data[3][1] - insurance_data[3][1])\n",
    "insurance_cost_difference.append([\"Akira\", akira_difference])\n",
    "print(\"Here is the difference between the actual and estimated insurance costs: \", insurance_cost_difference)"
   ]
  },
  {
   "cell_type": "code",
   "execution_count": 1,
   "id": "933607a6",
   "metadata": {},
   "outputs": [],
   "source": [
    "# Working with lists:\n",
    "names = [\"Mohamed\", \"Sara\", \"Xia\", \"Paul\", \"Valentina\", \"Jide\", \"Aaron\", \"Emily\", \"Nikita\", \"Paul\"]\n",
    "insurance_costs = [13262.0, 4816.0, 6839.0, 5054.0, 14724.0, 5360.0, 7640.0, 6072.0, 2750.0, 12064.0]\n",
    "\n",
    "# Adding new Individuals and their insurance costs:\n",
    "names.append(\"Priscilla\")\n",
    "insurance_costs.append(8320.0)\n"
   ]
  },
  {
   "cell_type": "code",
   "execution_count": 6,
   "id": "b688dfe9",
   "metadata": {},
   "outputs": [
    {
     "name": "stdout",
     "output_type": "stream",
     "text": [
      "Here is the updated medical records:  [('Mohamed', 13262.0), ('Sara', 4816.0), ('Xia', 6839.0), ('Paul', 5054.0), ('Valentina', 14724.0), ('Jide', 5360.0), ('Aaron', 7640.0), ('Emily', 6072.0), ('Nikita', 2750.0), ('Paul', 12064.0), ('Priscilla', 8320.0)]\n",
      "There are 11 medical records.\n",
      "Here is the first medical record: ('Mohamed', 13262.0)\n",
      "Here is the last medical record: ('Priscilla', 8320.0)\n"
     ]
    }
   ],
   "source": [
    "# Combinning the new lists\n",
    "medical_records = list(zip(names, insurance_costs))\n",
    "print(\"Here is the updated medical records: \", medical_records)\n",
    "\n",
    "#Amount of individuals in the medical records:\n",
    "num_medical_records = len(medical_records)\n",
    "print(\"There are \"+ str(num_medical_records) + \" medical records.\")\n",
    "\n",
    "#First and last individual in the medical records:\n",
    "first_medical_record = medical_records[0]\n",
    "print(\"Here is the first medical record: \"+ str(first_medical_record))\n",
    "last_medical_record = medical_records[-1]\n",
    "print(\"Here is the last medical record: \"+ str(last_medical_record))"
   ]
  },
  {
   "cell_type": "code",
   "execution_count": 10,
   "id": "884155eb",
   "metadata": {},
   "outputs": [
    {
     "name": "stdout",
     "output_type": "stream",
     "text": [
      "Here are the medical records sorted by insurance costs:  [('Nikita', 2750.0), ('Sara', 4816.0), ('Paul', 5054.0), ('Jide', 5360.0), ('Emily', 6072.0), ('Xia', 6839.0), ('Aaron', 7640.0), ('Priscilla', 8320.0), ('Paul', 12064.0), ('Mohamed', 13262.0), ('Valentina', 14724.0)]\n",
      "Here are the three cheapest insurance costs in our medical records:  [('Nikita', 2750.0), ('Sara', 4816.0), ('Paul', 5054.0)]\n",
      "Here are the three most expensive insurance costs in our medical records:  [('Paul', 12064.0), ('Mohamed', 13262.0), ('Valentina', 14724.0)]\n"
     ]
    }
   ],
   "source": [
    "#Sorting the medical records by insurance costs:\n",
    "medical_records.sort(key=lambda x: x[1])\n",
    "print(\"Here are the medical records sorted by insurance costs: \", str(medical_records))\n",
    "\n",
    "#Cheapest insurances cost:\n",
    "cheapest_three = medical_records[:3]\n",
    "print(\"Here are the three cheapest insurance costs in our medical records: \", str(cheapest_three))\n",
    "\n",
    "#most expensive medical insurance costs:\n",
    "priciest_three = medical_records [-3:]\n",
    "print(\"Here are the three most expensive insurance costs in our medical records: \", str(priciest_three))"
   ]
  },
  {
   "cell_type": "code",
   "execution_count": 14,
   "id": "51819550",
   "metadata": {},
   "outputs": [
    {
     "name": "stdout",
     "output_type": "stream",
     "text": [
      "There are 2 individuals with the name Paul in our medical records.\n"
     ]
    }
   ],
   "source": [
    "#Counting elements in a list:\n",
    "occurrences_paul = names.count(\"Paul\")\n",
    "print(\"There are \" + str(occurrences_paul) + \" individuals with the name Paul in our medical records.\")"
   ]
  },
  {
   "cell_type": "code",
   "execution_count": 16,
   "id": "e4f880ff",
   "metadata": {},
   "outputs": [
    {
     "name": "stdout",
     "output_type": "stream",
     "text": [
      "Here are the medical records sorted by names:  [('Aaron', 7640.0), ('Emily', 6072.0), ('Jide', 5360.0), ('Mohamed', 13262.0), ('Nikita', 2750.0), ('Paul', 5054.0), ('Paul', 12064.0), ('Priscilla', 8320.0), ('Sara', 4816.0), ('Valentina', 14724.0), ('Xia', 6839.0)]\n"
     ]
    }
   ],
   "source": [
    "#Sorting the medical records by alphabetically by names:\n",
    "names_medical_records = list(zip(names, insurance_costs))\n",
    "names_medical_records.sort()\n",
    "print(\"Here are the medical records sorted by names: \", str(names_medical_records))"
   ]
  },
  {
   "cell_type": "code",
   "execution_count": 19,
   "id": "afd1a03f",
   "metadata": {},
   "outputs": [
    {
     "name": "stdout",
     "output_type": "stream",
     "text": [
      "Here are the five middle medical records:  [('Paul', 5054.0), ('Jide', 5360.0), ('Emily', 6072.0), ('Xia', 6839.0), ('Aaron', 7640.0)]\n"
     ]
    }
   ],
   "source": [
    "#Selecting the medical records:\n",
    "middle_five_records = medical_records[2:7]\n",
    "print(\"Here are the five middle medical records: \", str(middle_five_records))"
   ]
  },
  {
   "cell_type": "code",
   "execution_count": null,
   "id": "2ec4146e",
   "metadata": {},
   "outputs": [],
   "source": []
  },
  {
   "cell_type": "code",
   "execution_count": null,
   "id": "0ae6b25c",
   "metadata": {},
   "outputs": [],
   "source": []
  },
  {
   "cell_type": "code",
   "execution_count": null,
   "id": "6f1933f1",
   "metadata": {},
   "outputs": [],
   "source": []
  },
  {
   "cell_type": "code",
   "execution_count": null,
   "id": "845d0cd4",
   "metadata": {},
   "outputs": [],
   "source": [
    "\n",
    "\n"
   ]
  }
 ],
 "metadata": {
  "kernelspec": {
   "display_name": "base",
   "language": "python",
   "name": "python3"
  },
  "language_info": {
   "codemirror_mode": {
    "name": "ipython",
    "version": 3
   },
   "file_extension": ".py",
   "mimetype": "text/x-python",
   "name": "python",
   "nbconvert_exporter": "python",
   "pygments_lexer": "ipython3",
   "version": "3.13.5"
  }
 },
 "nbformat": 4,
 "nbformat_minor": 5
}
